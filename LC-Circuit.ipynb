{
 "cells": [
  {
   "cell_type": "code",
   "execution_count": null,
   "metadata": {},
   "outputs": [],
   "source": [
    "import numpy as np\n",
    "import matplotlib.pyplot as plt\n",
    "\n",
    "# Constants\n",
    "L = 0.1  # Inductance in Henry\n",
    "C = 0.001  # Capacitance in Farad\n",
    "V0 = 5  # Initial voltage across the capacitor\n",
    "I0 = 0  # Initial current through the inductor\n",
    "\n",
    "# Time settings\n",
    "time = np.linspace(0, 0.05, 1000)  # 0 to 50ms\n",
    "\n",
    "# Angular frequency\n",
    "omega = 1 / np.sqrt(L * C)\n",
    "\n",
    "# Voltage across the capacitor over time\n",
    "voltage = V0 * np.cos(omega * time)\n",
    "\n",
    "# Current through the inductor over time\n",
    "current = (V0 / np.sqrt(L / C)) * np.sin(omega * time)\n",
    "\n",
    "# Plotting the results\n",
    "plt.figure(figsize=(10, 6))\n",
    "plt.plot(time, voltage, label='Voltage across Capacitor (V)', color='blue', linewidth=2)\n",
    "plt.plot(time, current, label='Current through Inductor (A)', color='red', linestyle='--', linewidth=2)\n",
    "\n",
    "# Adding titles and labels\n",
    "plt.title('LC Circuit - Voltage and Current Over Time')\n",
    "plt.xlabel('Time (s)')\n",
    "plt.ylabel('Voltage (V) / Current (A)')\n",
    "plt.legend()\n",
    "plt.grid(True)\n",
    "\n",
    "# Display the graph\n",
    "plt.show()\n"
   ]
  }
 ],
 "metadata": {
  "kernelspec": {
   "display_name": "Python 3",
   "language": "python",
   "name": "python3"
  },
  "language_info": {
   "codemirror_mode": {
    "name": "ipython",
    "version": 3
   },
   "file_extension": ".py",
   "mimetype": "text/x-python",
   "name": "python",
   "nbconvert_exporter": "python",
   "pygments_lexer": "ipython3",
   "version": "3.12.2"
  }
 },
 "nbformat": 4,
 "nbformat_minor": 2
}

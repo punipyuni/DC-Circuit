{
 "cells": [
  {
   "cell_type": "code",
   "execution_count": null,
   "metadata": {},
   "outputs": [],
   "source": [
    "import numpy as np\n",
    "import matplotlib.pyplot as plt\n",
    "\n",
    "# Constants\n",
    "R = 10  # Resistance in ohms\n",
    "C = 0.001  # Capacitance in farads\n",
    "V0 = 5  # Initial voltage across the capacitor\n",
    "\n",
    "# Time settings\n",
    "time = np.linspace(0, 0.05, 1000)  # 0 to 50ms\n",
    "\n",
    "# Time constant (τ)\n",
    "tau = R * C\n",
    "\n",
    "# Voltage across the capacitor over time (discharging)\n",
    "voltage = V0 * np.exp(-time / tau)\n",
    "\n",
    "# Current through the resistor over time\n",
    "current = (V0 / R) * np.exp(-time / tau)\n",
    "\n",
    "# Plotting the results\n",
    "plt.figure(figsize=(10, 6))\n",
    "plt.plot(time, voltage, label='Voltage across Capacitor (V)', color='blue', linewidth=2)\n",
    "plt.plot(time, current, label='Current through Resistor (A)', color='red', linestyle='--', linewidth=2)\n",
    "\n",
    "# Adding titles and labels\n",
    "plt.title('RC Circuit - Voltage and Current Over Time (Discharging)')\n",
    "plt.xlabel('Time (s)')\n",
    "plt.ylabel('Voltage (V) / Current (A)')\n",
    "plt.legend()\n",
    "plt.grid(True)\n",
    "\n",
    "# Display the graph\n",
    "plt.show()\n"
   ]
  }
 ],
 "metadata": {
  "kernelspec": {
   "display_name": "Python 3",
   "language": "python",
   "name": "python3"
  },
  "language_info": {
   "codemirror_mode": {
    "name": "ipython",
    "version": 3
   },
   "file_extension": ".py",
   "mimetype": "text/x-python",
   "name": "python",
   "nbconvert_exporter": "python",
   "pygments_lexer": "ipython3",
   "version": "3.12.2"
  }
 },
 "nbformat": 4,
 "nbformat_minor": 2
}

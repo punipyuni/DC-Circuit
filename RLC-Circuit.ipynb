{
 "cells": [
  {
   "cell_type": "code",
   "execution_count": null,
   "metadata": {},
   "outputs": [],
   "source": [
    "import numpy as np\n",
    "import matplotlib.pyplot as plt\n",
    "\n",
    "# Constants\n",
    "R = 1  # Resistance in ohms\n",
    "L = 0.1  # Inductance in henrys\n",
    "C = 0.001  # Capacitance in farads\n",
    "V0 = 5  # Initial voltage across the capacitor\n",
    "\n",
    "# Time settings\n",
    "time = np.linspace(0, 0.1, 1000)  # 0 to 100ms\n",
    "\n",
    "# Angular frequency and damping factor\n",
    "omega_0 = 1 / np.sqrt(L * C)  # Resonant angular frequency\n",
    "alpha = R / (2 * L)  # Damping factor\n",
    "\n",
    "# Damped oscillatory current (under-damped case)\n",
    "current = V0 / (L * np.sqrt(1 / (L * C) - (R / (2 * L))**2)) * np.exp(-alpha * time) * np.sin(np.sqrt(omega_0**2 - alpha**2) * time)\n",
    "\n",
    "# Voltage across the capacitor over time (using V = Q/C, where Q is proportional to the integral of current)\n",
    "voltage = V0 * np.exp(-alpha * time) * np.cos(np.sqrt(omega_0**2 - alpha**2) * time)\n",
    "\n",
    "# Plotting the results\n",
    "plt.figure(figsize=(10, 6))\n",
    "plt.plot(time, current, label='Current through Circuit (A)', color='red', linestyle='--', linewidth=2)\n",
    "plt.plot(time, voltage, label='Voltage across Capacitor (V)', color='blue', linewidth=2)\n",
    "\n",
    "# Adding titles and labels\n",
    "plt.title('RLC Circuit - Voltage and Current Over Time (Under-damped)')\n",
    "plt.xlabel('Time (s)')\n",
    "plt.ylabel('Voltage (V) / Current (A)')\n",
    "plt.legend()\n",
    "plt.grid(True)\n",
    "\n",
    "# Display the graph\n",
    "plt.show()\n"
   ]
  }
 ],
 "metadata": {
  "kernelspec": {
   "display_name": "Python 3",
   "language": "python",
   "name": "python3"
  },
  "language_info": {
   "name": "python",
   "version": "3.12.2"
  }
 },
 "nbformat": 4,
 "nbformat_minor": 2
}

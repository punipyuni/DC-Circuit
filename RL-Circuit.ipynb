{
 "cells": [
  {
   "cell_type": "code",
   "execution_count": null,
   "metadata": {},
   "outputs": [],
   "source": [
    "import numpy as np\n",
    "import matplotlib.pyplot as plt\n",
    "\n",
    "# Constants\n",
    "R = 10  # Resistance in ohms\n",
    "L = 0.1  # Inductance in henrys\n",
    "V0 = 5  # Applied voltage in volts\n",
    "\n",
    "# Time settings\n",
    "time = np.linspace(0, 0.05, 1000)  # 0 to 50ms\n",
    "\n",
    "# Time constant (τ)\n",
    "tau = L / R\n",
    "\n",
    "# Current through the resistor over time (during charging phase)\n",
    "current = (V0 / R) * (1 - np.exp(-time / tau))\n",
    "\n",
    "# Voltage across the inductor over time\n",
    "voltage_inductor = V0 * np.exp(-time / tau)\n",
    "\n",
    "# Plotting the results\n",
    "plt.figure(figsize=(10, 6))\n",
    "plt.plot(time, current, label='Current through Resistor (A)', color='red', linestyle='--', linewidth=2)\n",
    "plt.plot(time, voltage_inductor, label='Voltage across Inductor (V)', color='blue', linewidth=2)\n",
    "\n",
    "# Adding titles and labels\n",
    "plt.title('RL Circuit - Voltage and Current Over Time (Charging)')\n",
    "plt.xlabel('Time (s)')\n",
    "plt.ylabel('Voltage (V) / Current (A)')\n",
    "plt.legend()\n",
    "plt.grid(True)\n",
    "\n",
    "# Display the graph\n",
    "plt.show()\n"
   ]
  }
 ],
 "metadata": {
  "kernelspec": {
   "display_name": "Python 3",
   "language": "python",
   "name": "python3"
  },
  "language_info": {
   "name": "python",
   "version": "3.12.2"
  }
 },
 "nbformat": 4,
 "nbformat_minor": 2
}
